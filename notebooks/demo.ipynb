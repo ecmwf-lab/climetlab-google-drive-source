{
 "cells": [
  {
   "cell_type": "code",
   "execution_count": 1,
   "id": "pleasant-howard",
   "metadata": {},
   "outputs": [],
   "source": [
    "#!pip install climetlab\n",
    "#!pip install climetlab_google_drive_source"
   ]
  },
  {
   "cell_type": "code",
   "execution_count": 2,
   "id": "arabic-sally",
   "metadata": {},
   "outputs": [],
   "source": [
    "import climetlab as cml"
   ]
  },
  {
   "cell_type": "code",
   "execution_count": 3,
   "id": "affiliated-binding",
   "metadata": {},
   "outputs": [],
   "source": [
    "ds = cml.load_source(\n",
    "    \"google-drive\",\n",
    "    file_id = \"1PCkX-c1HQCjvmEmGJLyhPqhEGp6oVPiM\",\n",
    ")"
   ]
  },
  {
   "cell_type": "code",
   "execution_count": 4,
   "id": "boring-bryan",
   "metadata": {},
   "outputs": [
    {
     "name": "stdout",
     "output_type": "stream",
     "text": [
      "[ 0.73010254  0.48010254  0.69009399 ... -4.69076538 -1.50076294\n",
      " -1.97076416]\n",
      "[ 6.27001953  5.77999878  6.11999512 ... 33.67001343 26.27001953\n",
      " 24.6000061 ]\n",
      "[11.42200089 11.42200089 11.42200089 ... 12.86999893 12.86999893\n",
      " 12.86999893]\n"
     ]
    }
   ],
   "source": [
    "for arr in ds:\n",
    "    print(arr.to_numpy())"
   ]
  },
  {
   "cell_type": "code",
   "execution_count": null,
   "id": "63bbb6b6",
   "metadata": {},
   "outputs": [],
   "source": []
  }
 ],
 "metadata": {
  "kernelspec": {
   "display_name": "Python 3",
   "language": "python",
   "name": "python3"
  },
  "language_info": {
   "codemirror_mode": {
    "name": "ipython",
    "version": 3
   },
   "file_extension": ".py",
   "mimetype": "text/x-python",
   "name": "python",
   "nbconvert_exporter": "python",
   "pygments_lexer": "ipython3",
   "version": "3.9.10"
  }
 },
 "nbformat": 4,
 "nbformat_minor": 5
}
